{
 "cells": [
  {
   "cell_type": "markdown",
   "metadata": {},
   "source": [
    "# Dimensional Analysis\n",
    "This file creates a DIMENSIONAL sweep of the design parameters in question the following list of parameters is swept to find the effect of each of the parameters:\n",
    "\n",
    "The parameters take effect on a sinusoidal movement that is defined by:\n",
    "\n",
    "\\begin{equation}y(t) = A\\sin(\\omega t)\\end{equation}\n",
    "\n",
    "1. Global parameters:\n",
    "    * Cup Height: $H$\n",
    "    * Cup Diameter: $D$\n",
    "    * Amplitude: $A$\n",
    "    * Frequncy: $f$\n",
    "    * Run Time: $T_s$\n",
    "    * Gravity constant: $g$\n",
    "    \n",
    "2. Local parameters, for $n$ particle TYPES:\n",
    "\n",
    "    1. Particle Properties\n",
    "        * Particle Diameter: $d_n$ (size: $[n\\times 1]$)\n",
    "        * Particle Number: $N_n$ (size: $[n\\times 1]$)\n",
    "        * Particle Density: $\\rho_n$ (size: $[n\\times 1]$)\n",
    "        * Young's Modulus: $E_n$ (size: $[n\\times 1]$)\n",
    "        * Poison's Ratio: $\\nu_n$ (size: $[n\\times 1]$)\n",
    "    2. Inter Particle Properties\n",
    "        * Adhesion Coefficient: $A_n$ (size: $[n\\times n]$, symmetrical)\n",
    "        * Cohesion Coefficient: $C_n$ (size: $[n\\times n]$, symmetrical)\n",
    "        * Restitution Coefficient [normal]: $R_n$ (size: $[n\\times n]$, symmetrical)\n",
    "        * Restitution Coefficient [tangential]: $R'_n$ (size: $[n\\times n]$, symmetrical)\n",
    "        * Wall Restitution Coefficient [normal]: $W_n$ (size: $[n\\times n]$, symmetrical)\n",
    "        * Wall Restitution Coefficient [tangential]: $W'_n$ (size: $[n\\times n]$, symmetrical)\n",
    "        * Static friction Coefficient [normal]: $\\mu_n$ (size: $[n\\times n]$, symmetrical)\n",
    "\n",
    "3. Producing dependent variables:\n",
    "    * Mean collision time: $\\Delta t$\n",
    "    * Mean free path: $\\lambda$\n",
    "    * Particle velocity: $v_i$"
   ]
  },
  {
   "cell_type": "markdown",
   "metadata": {},
   "source": [
    "## Dimensional Groups:\n",
    "The following groups were extracted by method of the Buckingham-Pi theorem to reveal the respective groups:\n",
    "\n",
    "### Relative movement:\n",
    "\\begin{equation}\n",
    "\\Pi_0 = \\frac{\\lambda}{A} = \\frac{v_i \\Delta t}{A}\n",
    "\\end{equation}\n",
    "\n",
    "This dimensional group links the two main driving groups with eachother. The mean free path $\\lambda$ is determined by the relative velocity of the respective particles and the mean collision time $\\Delta t$. This is all determined by the variables below."
   ]
  },
  {
   "cell_type": "markdown",
   "metadata": {},
   "source": [
    "### Movement speed:\n",
    "\\begin{equation}\n",
    "\\Pi_1 = f T_s\n",
    "\\end{equation}\n",
    "\n",
    "The functional group above links the speed with the runtime."
   ]
  },
  {
   "cell_type": "markdown",
   "metadata": {},
   "source": [
    "### Movement volume:\n",
    "\\begin{equation}\n",
    "\\Pi_2 = \\frac{H}{D}\n",
    "\\end{equation}\n",
    "\n",
    "The group above ensures that the volume of the cup is either distributed along the cup height or the girth."
   ]
  },
  {
   "cell_type": "markdown",
   "metadata": {},
   "source": [
    "### Acceleration:\n",
    "\\begin{equation}\n",
    "\\Pi_3 = \\frac{A (2\\pi f)^2}{g}\n",
    "\\end{equation}\n",
    "\n",
    "The following group ensures that the amount of input G's is larger than the gravitational pull. This is bounded by: $\\Pi_3 > 1$, to ensure mixing."
   ]
  },
  {
   "cell_type": "markdown",
   "metadata": {},
   "source": [
    "### Particle Number [link between global and local]:\n",
    "\\begin{equation}\n",
    "\\Pi_{1(n)} = \\frac{d_n^3 N_n}{D^2 H}\n",
    "\\end{equation}\n",
    "\n",
    "Here we ensure that the volume of the particles is less than that of the cup. At least assuming 100% packing density: $0<\\Sigma_{n=1}^n\\Pi_{1(n)}< 1.5$"
   ]
  },
  {
   "cell_type": "markdown",
   "metadata": {},
   "source": [
    "### Elastic Energy [Multiple]:\n",
    "\\begin{equation}\n",
    "\\Pi_{2(n)} = \\frac{E_n}{A d_n f^2 \\rho_n}\n",
    "\\end{equation}\n",
    "\n",
    "Here we observe the effect of the particles elastic energy towards the kinetic energy transfered to the particles.\n",
    "\n",
    "### Poissons Ratio [Multiple]:\n",
    "\\begin{equation}\n",
    "\\Pi_{3(n)} = \\nu_n\n",
    "\\end{equation}"
   ]
  },
  {
   "cell_type": "markdown",
   "metadata": {},
   "source": [
    "### Restitution [Multiple]:\n",
    "\n",
    "1. Particle - Particle:\n",
    "\\begin{equation}\n",
    "\\Pi_{4(n)} = \\frac{R_n}{R'_t}\n",
    "\\end{equation}\n",
    "\n",
    "\n",
    "2. Normal, Particle - Wall:\n",
    "\\begin{equation}\n",
    "\\Pi_{5(n)} = \\frac{W_n}{W'_n}\n",
    "\\end{equation}\n",
    "\n",
    "The matrices define the restitution coefficient between the physical parameters in the defined area. Each matrix entry is to be less than 1."
   ]
  },
  {
   "cell_type": "markdown",
   "metadata": {},
   "source": [
    "### Friction [Multiple]:\n",
    "\\begin{equation}\n",
    "\\Pi_{6(n)} = \\mu_n\n",
    "\\end{equation}\n",
    "\n",
    "\\begin{equation}\n",
    "\\Pi_{7(n)} = \\mu_{n,wall}\n",
    "\\end{equation}\n",
    "\n",
    "Each matrix entry is to be less than 1"
   ]
  },
  {
   "cell_type": "markdown",
   "metadata": {},
   "source": [
    "## CODE\n",
    "### Import modules"
   ]
  },
  {
   "cell_type": "code",
   "execution_count": 1,
   "metadata": {
    "collapsed": false,
    "scrolled": false
   },
   "outputs": [],
   "source": [
    "import star_inputs as si\n",
    "import pandas as pd\n",
    "import numpy as np\n",
    "import os\n",
    "Base = os.getcwd()"
   ]
  },
  {
   "cell_type": "markdown",
   "metadata": {},
   "source": [
    "### Set Parameters\n",
    "\n",
    "Here we set the input parameters of the variables we want to keep constant"
   ]
  },
  {
   "cell_type": "code",
   "execution_count": 2,
   "metadata": {
    "collapsed": false
   },
   "outputs": [],
   "source": [
    "Ts = 2\n",
    "H = 0.05\n",
    "E = np.array([5E08,5E08])\n",
    "N = np.array([500,500])\n",
    "Rn = np.array([[0.5,0.5],\n",
    "               [0.5,0.5]])\n",
    "Wn = np.array([0.5,0.5])\n",
    "\n",
    "Par = {'Ts':Ts, 'H':H ,'E':E,'N':N,'Rn':Rn,'Wn':Wn}"
   ]
  },
  {
   "cell_type": "markdown",
   "metadata": {},
   "source": [
    "### Set the domain sweep\n",
    "\n",
    "To ensure a valuable datasweep we should set up a domain sweep. We can consider the following values, $i$ and $j$ is the matrix indeces:\n",
    "\n",
    "1. $\\Pi_1$ = $[30, 60, 120]$\n",
    "2. $\\Pi_2$ = $[0.1, 1, 10]$\n",
    "3. $\\Pi_3$ = $[50, 100, 150]$\n",
    "4. $\\Pi_{1(i)}$ = $[0.05, 0.2, 0.4]$, if we assume only 2 types of particles available\n",
    "5. $\\Pi_{2(i)}$ = $[100, 1000, 10000]$\n",
    "6. $\\Pi_{3(i)}$ = $[0.1, 0.3, 0.5]$\n",
    "7. $\\Pi_{4(ij)}$ = $[0.1, 1, 10]$\n",
    "8. $\\Pi_{5(ij)}$ = $[0.1, 1, 10]$\n",
    "9. $\\Pi_{6(ij)}$ = $[0.0, 0.4, 0.8]$\n",
    "10. $\\Pi_{7(ij)}$ = $[0.0, 0.4, 0.8]$\n",
    "\n",
    "We assume the middle value to be stable."
   ]
  },
  {
   "cell_type": "code",
   "execution_count": 3,
   "metadata": {
    "collapsed": false
   },
   "outputs": [],
   "source": [
    "P = np.array([[30,60,120],\n",
    "              [0.5,1,2],\n",
    "              [50,100,150],\n",
    "              [0.05,0.2,0.4],\n",
    "              [100,1000,10000],\n",
    "              [0.1,0.3,0.5],\n",
    "              [0.1,1,5],\n",
    "              [0.1,1,5],\n",
    "              [0.0,0.4,0.8],\n",
    "              [0.0,0.4,0.8]])"
   ]
  },
  {
   "cell_type": "code",
   "execution_count": 4,
   "metadata": {
    "collapsed": false
   },
   "outputs": [],
   "source": [
    "t = 0\n",
    "k = 0\n",
    "j = 0\n",
    "T = {}\n",
    "\n",
    "while t < 21:\n",
    "    \n",
    "    R = np.array([[P[6][1],P[6][1]],\n",
    "                  [P[6][1],P[6][1]]])\n",
    "    \n",
    "    M = np.array([[P[8][1],P[8][1]],\n",
    "                  [P[8][1],P[8][1]]])\n",
    "    \n",
    "\n",
    "    T[t] = [P[0][1],\n",
    "            P[1][1],\n",
    "            P[2][1],\n",
    "            np.array([P[3][1],P[3][1]]),\n",
    "            np.array([P[4][1],P[4][1]]),\n",
    "            np.array([P[5][1],P[5][1]]),\n",
    "            R,\n",
    "            np.array([P[7][1],P[7][1]]),\n",
    "            M,\n",
    "            np.array([P[9][1],P[9][1]])]\n",
    "    \n",
    "    if j < 3:\n",
    "        T[t][j] = P[j][k]\n",
    "    elif j is 3 or j is 4 or j is 5 or j is 7 or j is 9:\n",
    "        T[t][j] = np.array([P[j][k],P[j][k]])\n",
    "    else:\n",
    "        T[t][j] = np.array([[P[j][k],P[j][k]],\n",
    "                            [P[j][k],P[j][k]]])\n",
    "    \n",
    "    k = k+1\n",
    "    if k is 1 and j>0:\n",
    "        k = k+1\n",
    "    \n",
    "    if k is 3:\n",
    "        k = 0\n",
    "        j = j+1\n",
    "    \n",
    "    t = t+1"
   ]
  },
  {
   "cell_type": "code",
   "execution_count": 5,
   "metadata": {
    "collapsed": false,
    "scrolled": false
   },
   "outputs": [],
   "source": [
    "for n in range(0,21):\n",
    "    Par = {'Ts':Ts, 'H':H ,'E':E,'N':N,'Rn':Rn,'Wn':Wn}\n",
    "    \n",
    "    DIR = Base+'\\\\INPUTS\\\\'\n",
    "    name = 'point_'+str(n)\n",
    "    DIR = DIR+name\n",
    "    #Linux OR Mac\n",
    "    #DIR = DIR.replace('\\\\','/')\n",
    "    if not os.path.exists(DIR):\n",
    "        os.makedirs(DIR)\n",
    "    #Windows STuuupid\n",
    "    DIR = DIR.replace('\\\\','/')\n",
    "    \n",
    "    P,C = si.Pi(Par,T[n])\n",
    "    if np.linalg.norm(C) > 0.0001:\n",
    "        print('---------------WARNING CONDITION NOT MET---------------')\n",
    "        print('Point:',n)\n",
    "        U = ['1','2','3','0_n','1_n','2_n','3_n','4_n','5_n','6_n']\n",
    "        for i in range(0,10):\n",
    "            if C[i] > 0.0001:\n",
    "                print('Error parameter: P',U[i])\n",
    "                print('Norm of parameter: ',C[i])\n",
    "        print('-------------------------------------------------------')\n",
    "    si.writer(Par,DIR,name)"
   ]
  },
  {
   "cell_type": "markdown",
   "metadata": {
    "collapsed": true
   },
   "source": [
    "### Cohesion Energy [Multiple]:\n",
    "\\begin{equation}\n",
    "\\Pi_{3(n)} = \\frac{C_n}{d_n^3 f^2 \\rho_n}\n",
    "\\end{equation}\n",
    "\n",
    "Adhesion and cohesion is similarily defined where cohesion is the attraction energy between similar particles and adhesion between dissimilar particles. Typical values for $C_n$ ranges from 0 to 0.15 $J/m^2$, by deviding by a smaller number typically less than 1. This produces a value that easily scales from 0 to 100 in small variations of the particle size and cup diameter.\n",
    "\n",
    "### Adhesion Energy [Multiple]:\n",
    "\\begin{equation}\n",
    "\\Pi_{4(n)} = \\frac{\\|A_n\\|}{d_k d_n^2 f^2 \\rho_n}\n",
    "\\end{equation}\n",
    "\n",
    "Similarily we observe the effect of the adhesion energy in the particles."
   ]
  },
  {
   "cell_type": "code",
   "execution_count": null,
   "metadata": {
    "collapsed": true
   },
   "outputs": [],
   "source": [
    "starccm+ -server -cpubind -np 2 -rsh ssh C:\\\\Users\\\\Andre\\\\Documents\\\\GitHub\\\\Resonant-Acoustic-Mixing\\\\RAM_DEV\\\\master.sim"
   ]
  },
  {
   "cell_type": "code",
   "execution_count": null,
   "metadata": {
    "collapsed": true
   },
   "outputs": [],
   "source": []
  }
 ],
 "metadata": {
  "anaconda-cloud": {},
  "kernelspec": {
   "display_name": "Python 3",
   "language": "python",
   "name": "python3"
  },
  "language_info": {
   "codemirror_mode": {
    "name": "ipython",
    "version": 3
   },
   "file_extension": ".py",
   "mimetype": "text/x-python",
   "name": "python",
   "nbconvert_exporter": "python",
   "pygments_lexer": "ipython3",
   "version": "3.6.0"
  }
 },
 "nbformat": 4,
 "nbformat_minor": 2
}
